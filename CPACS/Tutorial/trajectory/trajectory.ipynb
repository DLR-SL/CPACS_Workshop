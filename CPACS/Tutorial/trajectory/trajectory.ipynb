{
 "cells": [
  {
   "cell_type": "markdown",
   "metadata": {},
   "source": [
    "# TiXI Tutorial: Read and write CPACS files\n",
    "\n",
    "In this tutorial we will learn how to:\n",
    "- initialize the TiXI library\n",
    "- read data from a CPACS file\n",
    "- Write new data to a new CPACS file\n",
    "\n",
    "Here are some helpful resources for [TiXI](https://github.com/DLR-SC/tixi):\n",
    "- Binary Downloads:  https://github.com/DLR-SC/tixi/wiki/Downloads\n",
    "- API Documentation: https://dlr-sc.github.io/tixi/\n",
    "- Issue Tracker:     https://github.com/DLR-SC/tixi/issues\n",
    "- Wiki:              https://github.com/DLR-SC/tixi/wiki"
   ]
  },
  {
   "cell_type": "code",
   "execution_count": null,
   "metadata": {},
   "outputs": [],
   "source": [
    "import numpy as np\n",
    "import pandas as pd\n",
    "pd.set_option(\"display.max_colwidth\", None)\n",
    "import matplotlib.pyplot as plt"
   ]
  },
  {
   "cell_type": "markdown",
   "metadata": {},
   "source": [
    "## Initialize TiXI\n",
    "\n",
    "The first thing we need to do is import and initialise TiXI."
   ]
  },
  {
   "cell_type": "code",
   "execution_count": null,
   "metadata": {
    "scrolled": true,
    "tags": []
   },
   "outputs": [],
   "source": [
    "from tixi3 import tixi3wrapper\n",
    "tixi_h = tixi3wrapper.Tixi3()"
   ]
  },
  {
   "cell_type": "markdown",
   "metadata": {},
   "source": [
    "Let's examine this object to see what functionality it provides, using the Python help method [Python help method](https://docs.python.org/3/library/functions.html#help):"
   ]
  },
  {
   "cell_type": "raw",
   "metadata": {
    "tags": []
   },
   "source": [
    "help(tixi_h)"
   ]
  },
  {
   "cell_type": "markdown",
   "metadata": {},
   "source": [
    "## Open a CPACS File"
   ]
  },
  {
   "cell_type": "markdown",
   "metadata": {},
   "source": [
    "In this tutorial, we will be using an aircraft model from the [Digital Hangar](https://www.digital-hangar.de/). The Digital Hangar provides aircraft designs in the CPACS data format to the research community. \n",
    "\n",
    "Download the `EXACT Turbofan Baseline` and drag it into this working directory to open it with TiXI. Alternatively, it is available in the `resources` folder."
   ]
  },
  {
   "cell_type": "code",
   "execution_count": null,
   "metadata": {
    "tags": []
   },
   "outputs": [],
   "source": [
    "tixi_h.open('D250-TF-2040.xml')"
   ]
  },
  {
   "cell_type": "markdown",
   "metadata": {},
   "source": [
    "You can also go to that directory and open the file to explore its contents.\n",
    "It contains some basic description of an aircraft model and analysis results. In this example, we want to access the `Analyses` Node to read a `Trajectory` of the Aircraft"
   ]
  },
  {
   "cell_type": "markdown",
   "metadata": {},
   "source": [
    "## Validate the dataset"
   ]
  },
  {
   "cell_type": "code",
   "execution_count": null,
   "metadata": {},
   "outputs": [],
   "source": [
    "try:\n",
    "    tixi_h.schemaValidateFromFile('resources/cpacs_schema.xsd')\n",
    "    print(\"✅ Schema validation successful.\")\n",
    "except tixi3wrapper.Tixi3Exception as e:\n",
    "    print(\"❌ Schema validation failed!\")\n",
    "    print(f\"   Reason: {e}\")"
   ]
  },
  {
   "cell_type": "markdown",
   "metadata": {},
   "source": [
    "## Read Data from the CPACS Model"
   ]
  },
  {
   "attachments": {},
   "cell_type": "markdown",
   "metadata": {},
   "source": [
    "<img src=\"resources/dataStructure.png\" style=\"width:80%;\"/>"
   ]
  },
  {
   "cell_type": "markdown",
   "metadata": {},
   "source": [
    "### Get string elements\n",
    "\n",
    "First we are going to read some data from the model. Reading is always done using one of the `tixi_h.get...()` methods which take an [XPath](https://en.wikipedia.org/wiki/XPath) as their first argument. This `XPath` is basically a query that identifies `Elements` or `Attributes` within a XML file.\n",
    "\n",
    "Let us get the `name` of the dataset using the path to the header and selecting it via its index:\n",
    "```xml\n",
    "<?xml version=\"1.0\"?>\n",
    "<cpacs xmlns:xsi=\"http://www.w3.org/2001/XMLSchema-instance\" xsi:noNamespaceSchemaLocation=\"https://www.cpacs.de/schema/v3_5_0/cpacs_schema.xsd\">\n",
    "  <header>\n",
    "    <name>D250-TF-2040_orig</name>\n",
    "    <version>1.0</version>\n",
    "    <cpacsVersion>3.5</cpacsVersion>\n",
    "    <versionInfos>\n",
    "      <versionInfo version=\"0.1\">\n",
    "        <description>Original data set provided by the DLR Exact project</description>\n",
    "        <creator>openAD</creator>\n",
    "        <timestamp>2023-12-18T13:22:16</timestamp>\n",
    "        <cpacsVersion>3.2</cpacsVersion>\n",
    "      </versionInfo>\n",
    "      <versionInfo version=\"1.0\">\n",
    "        <description>Data set updated to cpacsVersion 3.5</description>\n",
    "        <creator>DLR-SL</creator>\n",
    "        <timestamp>2024-02-07T15:06:12Z</timestamp>\n",
    "        <cpacsVersion>3.5</cpacsVersion>\n",
    "      </versionInfo>\n",
    "    </versionInfos>\n",
    "  </header>\n",
    "\n",
    "```"
   ]
  },
  {
   "cell_type": "code",
   "execution_count": null,
   "metadata": {},
   "outputs": [],
   "source": [
    "dataset_name = tixi_h.getTextElement(\"/cpacs/header/name\")\n",
    "print(f\"Dataset name: {dataset_name}\")"
   ]
  },
  {
   "cell_type": "markdown",
   "metadata": {},
   "source": [
    "### Fun with XPath"
   ]
  },
  {
   "cell_type": "markdown",
   "metadata": {},
   "source": [
    "In our data we find one aircraft model:\n",
    "```xml\n",
    "<?xml version=\"1.0\"?>\n",
    "<cpacs xmlns:xsi=\"http://www.w3.org/2001/XMLSchema-instance\" xsi:noNamespaceSchemaLocation=\"https://www.cpacs.de/schema/v3_5_0/cpacs_schema.xsd\">\n",
    "  <header>\n",
    "    ...\n",
    "  </header>\n",
    "  <vehicles> \n",
    "    ...\n",
    "    <aircraft>\n",
    "      <model uID=\"AircraftModel\">\n",
    "        <name>EXACT Turbofan</name>\n",
    "        <description>openAD</description>\n",
    "```\n",
    "So the simplest way to define the XPath would be:"
   ]
  },
  {
   "cell_type": "code",
   "execution_count": null,
   "metadata": {},
   "outputs": [],
   "source": [
    "aircraft_xpath = \"/cpacs/vehicles/aircraft/model\"\n",
    "tixi_h.checkElement(aircraft_xpath)"
   ]
  },
  {
   "cell_type": "markdown",
   "metadata": {},
   "source": [
    "We could also use the `uID` attribute to get the XPath automatically via TiXI:"
   ]
  },
  {
   "cell_type": "code",
   "execution_count": null,
   "metadata": {},
   "outputs": [],
   "source": [
    "aircraft_xpath = tixi_h.uIDGetXPath('AircraftModel')\n",
    "tixi_h.checkElement(aircraft_xpath)"
   ]
  },
  {
   "cell_type": "markdown",
   "metadata": {},
   "source": [
    "### Reading trajectories\n",
    "```xml\n",
    "<cpacs xmlns:xsi=\"http://www.w3.org/2001/XMLSchema-instance\" xsi:noNamespaceSchemaLocation=\"https://www.cpacs.de/schema/v3_5_0/cpacs_schema.xsd\">\n",
    "  <vehicles>\n",
    "    <aircraft>\n",
    "      <model uID=\"AircraftModel\">\n",
    "        <analyses>\n",
    "          <trajectories>\n",
    "            <trajectory uID=\"block_150nm_23750kg\">\n",
    "              <name>Block 150nm 23750kg</name>\n",
    "              ...\n",
    "            </trajectory>\n",
    "            <trajectory uID=\"reserve_150nm_23750kg\">\n",
    "              <name>Reserve 150nm 23750kg</name>\n",
    "            </trajectory>\n",
    "            ...\n",
    "          </trajectories>\n",
    "        </analyses>\n",
    "      </model>\n",
    "    </aircraft>\n",
    "  </vehicles>\n",
    "</cpacs>\n",
    "```"
   ]
  },
  {
   "cell_type": "code",
   "execution_count": null,
   "metadata": {},
   "outputs": [],
   "source": [
    "trajectories_xpath = f\"{aircraft_xpath}/analyses/trajectories\"\n",
    "n_traj = tixi_h.getNamedChildrenCount(trajectories_xpath, \"trajectory\")\n",
    "print(f\"Number of trajectories: {n_traj}\")"
   ]
  },
  {
   "cell_type": "code",
   "execution_count": null,
   "metadata": {},
   "outputs": [],
   "source": [
    "traj_info = []\n",
    "for i in range(1, n_traj + 1):\n",
    "    trajectory_xpath = f\"{trajectories_xpath}/trajectory[{i}]\"\n",
    "    name = tixi_h.getTextElement(f\"{trajectory_xpath}/name\") if tixi_h.checkElement(f\"{trajectory_xpath}/name\") else \"N/A\"\n",
    "    uid = tixi_h.getTextAttribute(trajectory_xpath, \"uID\") if tixi_h.checkAttribute(trajectory_xpath, \"uID\") else \"N/A\"\n",
    "    traj_info.append({\"Index\": i, \"uID\": uid, \"Name\": name, \"xPath\": trajectory_xpath})\n",
    "pd.DataFrame(traj_info)"
   ]
  },
  {
   "cell_type": "markdown",
   "metadata": {},
   "source": [
    "### Processing a single trajectory"
   ]
  },
  {
   "cell_type": "markdown",
   "metadata": {},
   "source": [
    "For the tutorial, we take a look at the **first** trajectories of the aircraft. Each trajectory consists of `flightPoints`: comma-separated vectors to store large data:\n",
    "```xml\n",
    "<cpacs xmlns:xsi=\"http://www.w3.org/2001/XMLSchema-instance\" xsi:noNamespaceSchemaLocation=\"https://www.cpacs.de/schema/v3_5_0/cpacs_schema.xsd\">\n",
    "  <vehicles>\n",
    "    <aircraft>\n",
    "      <model uID=\"AircraftModel\">\n",
    "        <analyses>\n",
    "          <trajectories>\n",
    "            <trajectory uID=\"block_150nm_23750kg\">\n",
    "              <name>Block 150nm 23750kg</name>\n",
    "              <global>\n",
    "                <fuelMass>1397.57</fuelMass>\n",
    "                ...\n",
    "              </global>\n",
    "              <flightPoints>\n",
    "                <index>0;1;2;3;4;5;...</index>\n",
    "                <segmentUID>taxi_out;taxi_out;take_off;climb_cas_mach_01_design;climb_cas_mach_01_design;...</segmentUID>\n",
    "                <flightTime>0;540;660;667;674;...</flightTime>\n",
    "                <flightDistance>0;0;0;919.873;1842.72;...</flightDistance>\n",
    "                <altitude>0;0;457.2;526.095;594.673;...</altitude>\n",
    "                ...\n",
    "              </flightPoints>\n",
    "            </trajectory>\n",
    "```"
   ]
  },
  {
   "cell_type": "code",
   "execution_count": null,
   "metadata": {
    "tags": []
   },
   "outputs": [],
   "source": [
    "trajectory_xpath = f\"{trajectories_xpath}/trajectory[1]\"\n",
    "flightPoints_xpath = f\"{trajectory_xpath}/flightPoints\""
   ]
  },
  {
   "cell_type": "markdown",
   "metadata": {},
   "source": [
    "In the first step, we want to find out how many elements the trajectory vector has. Therefore, we get the vector size of the `index` vector with the tixi function `getVectorSize`."
   ]
  },
  {
   "cell_type": "code",
   "execution_count": null,
   "metadata": {
    "scrolled": true,
    "tags": []
   },
   "outputs": [],
   "source": [
    "vector_size = tixi_h.getVectorSize(f\"{flightPoints_xpath}/index\")\n",
    "print(f\"Each vector is of our trajectory has {vector_size} entries.\")"
   ]
  },
  {
   "cell_type": "markdown",
   "metadata": {},
   "source": [
    "In the next step, we want to get the `time` vector, as well as the `altitude` vector of our trajectory. We use this opportunity to introduce two methods of accessing the data:\n",
    "\n",
    "(1) Get vector as splitted string:"
   ]
  },
  {
   "cell_type": "code",
   "execution_count": null,
   "metadata": {
    "tags": []
   },
   "outputs": [],
   "source": [
    "time_vector_str = tixi_h.getTextElement(f\"{flightPoints_xpath}/flightTime\").split(';')\n",
    "time_vector = [float(t) for t in time_vector_str]\n",
    "print(time_vector)"
   ]
  },
  {
   "cell_type": "markdown",
   "metadata": {},
   "source": [
    "(2) Obtain the vector using the Tixi convenience function `getFloatVector`:"
   ]
  },
  {
   "cell_type": "code",
   "execution_count": null,
   "metadata": {
    "tags": []
   },
   "outputs": [],
   "source": [
    "altitude_vector = tixi_h.getFloatVector(f\"{flightPoints_xpath}/altitude\", vector_size)\n",
    "print(altitude_vector)"
   ]
  },
  {
   "cell_type": "markdown",
   "metadata": {},
   "source": [
    "Now we want to list the vectors in a table."
   ]
  },
  {
   "cell_type": "code",
   "execution_count": null,
   "metadata": {
    "tags": []
   },
   "outputs": [],
   "source": [
    "df = pd.DataFrame({\n",
    "    \"Time [s]\": time_vector,\n",
    "    \"Altitude [m]\": altitude_vector\n",
    "})\n",
    "df"
   ]
  },
  {
   "cell_type": "markdown",
   "metadata": {},
   "source": [
    "We could plot the trajectory via [Matplotlib](https://matplotlib.org/):"
   ]
  },
  {
   "cell_type": "code",
   "execution_count": null,
   "metadata": {},
   "outputs": [],
   "source": [
    "trajectory_name = tixi_h.getTextElement(f\"{trajectory_xpath}/name\") if tixi_h.checkElement(f\"{trajectory_xpath}/name\") else \"N/A\"\n",
    "\n",
    "plt.figure(figsize=(8, 5))\n",
    "plt.plot(time_vector, altitude_vector, marker=\"o\", linestyle=\"-\", linewidth=2, markersize=6, label=\"Altitude [m]\")\n",
    "\n",
    "plt.xlabel(\"Time [s]\", fontsize=12)\n",
    "plt.ylabel(\"Altitude [m]\", fontsize=12)\n",
    "plt.title(f\"Aircraft trajectory {trajectory_name}\", fontsize=14, fontweight=\"bold\")\n",
    "\n",
    "plt.grid(True, linestyle=\"--\", alpha=0.6)\n",
    "plt.legend()\n",
    "\n",
    "plt.tight_layout()\n",
    "plt.show()"
   ]
  },
  {
   "cell_type": "markdown",
   "metadata": {},
   "source": [
    "## Write Data to CPACS File"
   ]
  },
  {
   "cell_type": "markdown",
   "metadata": {},
   "source": [
    "We now want to add a new trajectory to the CPACS dataset.\n",
    "For simplicity, the trajectory vectors consist of just seven points:"
   ]
  },
  {
   "cell_type": "code",
   "execution_count": null,
   "metadata": {},
   "outputs": [],
   "source": [
    "altitude = [0,8000,8000,11000,11000,7000,0]\n",
    "time = [0,500,2000,3000,8000,9000,11000]\n",
    "plt.plot(time, altitude, marker='o')\n",
    "plt.xlabel('Time (s)')\n",
    "plt.ylabel('Altitude (m)')\n",
    "plt.title('New Trajectory Profile')\n",
    "plt.show()"
   ]
  },
  {
   "attachments": {},
   "cell_type": "markdown",
   "metadata": {},
   "source": [
    "We need to understand the schema to set the correct data structure. For example, we can you [XSDDiagram](https://www.cpacs.de/3rdParty/XSDDiagram.zip) or the [CPACS online documentation](https://dlr-sl.github.io/cpacs-website/documentation/CPACS_3_5_0_Docs/html/7bb51e80-aa8b-2d94-eade-4d7c33513a09.htm):\n",
    "\n",
    "<img src=\"resources/trajectory_xsd.png\" style=\"width:60%;\"/>"
   ]
  },
  {
   "cell_type": "markdown",
   "metadata": {},
   "source": [
    "First, we create a new `trajectory` element with the `uID` `Our_CPACS_Journey` in the `trajectories` node:"
   ]
  },
  {
   "cell_type": "code",
   "execution_count": null,
   "metadata": {},
   "outputs": [],
   "source": [
    "tixi_h.createElement(trajectories_xpath,'trajectory')\n",
    "newTrajectory_xpath = f\"{trajectories_xpath}/trajectory[last()]\"\n",
    "\n",
    "uID = \"Our_CPACS_journey\"\n",
    "name = \"Our CPACS journey\"\n",
    "tixi_h.addTextAttribute(newTrajectory_xpath,'uID', uID)\n",
    "tixi_h.addTextElement(newTrajectory_xpath, 'name', name)"
   ]
  },
  {
   "cell_type": "markdown",
   "metadata": {},
   "source": [
    "Then we add a float vector to the new trajectory. The length of the vector and the number of digits after the comma must be specified."
   ]
  },
  {
   "cell_type": "code",
   "execution_count": null,
   "metadata": {},
   "outputs": [],
   "source": [
    "tixi_h.createElement(newTrajectory_xpath, \"flightPoints\")\n",
    "\n",
    "new_flightPoints_xpath = f\"{newTrajectory_xpath}/flightPoints\"\n",
    "tixi_h.addFloatVector(new_flightPoints_xpath, \"flightTime\", time, numElements=len(altitude), format=\"%.1f\")\n",
    "tixi_h.addFloatVector(new_flightPoints_xpath, \"altitude\", altitude, numElements=len(altitude), format=\"%.1f\")"
   ]
  },
  {
   "cell_type": "markdown",
   "metadata": {},
   "source": [
    "Next, we want to check the new information. Therefore, we introduce a different possibility to get the trajectory information. We can get the xPath of the trajectory from it's uID."
   ]
  },
  {
   "cell_type": "code",
   "execution_count": null,
   "metadata": {},
   "outputs": [],
   "source": [
    "check_new_xpath = tixi_h.uIDGetXPath(uID)\n",
    "print(f\"A trajectory with uID `Our_CPACS_Journey` is found at {check_new_xpath}.\")"
   ]
  },
  {
   "cell_type": "markdown",
   "metadata": {},
   "source": [
    "### Validate the data"
   ]
  },
  {
   "cell_type": "code",
   "execution_count": null,
   "metadata": {},
   "outputs": [],
   "source": [
    "try:\n",
    "    tixi_h.schemaValidateFromFile('resources/cpacs_schema.xsd')\n",
    "    print(\"✅ Schema validation successful.\")\n",
    "except tixi3wrapper.Tixi3Exception as e:\n",
    "    print(\"❌ Schema validation failed!\")\n",
    "    print(f\"   Reason: {e}\")"
   ]
  },
  {
   "cell_type": "markdown",
   "metadata": {},
   "source": [
    "Unfortunately, TiXI does not show us the source of the error here, but a look at the schema reveals that we still need the elements `index`, `segmentUID`, `thrust`, `latitude` and `longitude`."
   ]
  },
  {
   "cell_type": "code",
   "execution_count": null,
   "metadata": {},
   "outputs": [],
   "source": [
    "index_vec = \";\".join([str(i) for i in range(len(altitude))])\n",
    "tixi_h.addTextElementAtIndex(new_flightPoints_xpath, \"index\", index_vec, 1)"
   ]
  },
  {
   "cell_type": "code",
   "execution_count": null,
   "metadata": {},
   "outputs": [],
   "source": [
    "segment_uids = \";\".join([\"take_off\",\"cruise_const_altitude\"*4,\"approach_landing_design\", \"taxi_in\"])\n",
    "tixi_h.addTextElementAtIndex(new_flightPoints_xpath, \"segmentUID\", segment_uids, 2)"
   ]
  },
  {
   "cell_type": "markdown",
   "metadata": {},
   "source": [
    "As the other data is unavailable, we use `NaN` vectors to indicate this:"
   ]
  },
  {
   "cell_type": "code",
   "execution_count": null,
   "metadata": {},
   "outputs": [],
   "source": [
    "NaN_vec = \";\".join([\"NaN\" for i in range(len(altitude))])\n",
    "tixi_h.addTextElementAtIndex(new_flightPoints_xpath, \"thrust\", NaN_vec, 4)\n",
    "tixi_h.addTextElementAtIndex(new_flightPoints_xpath, \"latitude\", NaN_vec, 5)\n",
    "tixi_h.addTextElementAtIndex(new_flightPoints_xpath, \"longitude\", NaN_vec, 6)"
   ]
  },
  {
   "cell_type": "code",
   "execution_count": null,
   "metadata": {},
   "outputs": [],
   "source": [
    "try:\n",
    "    tixi_h.schemaValidateFromFile('resources/cpacs_schema.xsd')\n",
    "    print(\"✅ Schema validation successful.\")\n",
    "except tixi3wrapper.Tixi3Exception as e:\n",
    "    print(\"❌ Schema validation failed!\")\n",
    "    print(f\"   Reason: {e}\")"
   ]
  },
  {
   "cell_type": "markdown",
   "metadata": {},
   "source": [
    "## Some comments on the CPACS development\n",
    "\n",
    "Congratulations, you have just found an aspect of CPACS that should be improved. Fortunately, CPACS development has not stopped after 20 years, and in a current research project with an intensive focus on trajectories, we have developed a modified trajectory definition that makes the mandatory elements optional, removes the mandatory order, adds new elements and presents the syntax in a more modern way. This will be part of the CPACS v3.6 release:\n",
    "\n",
    "<img src=\"resources/trajectory_xsd_new.png\" style=\"width:60%;\"/>"
   ]
  },
  {
   "cell_type": "markdown",
   "metadata": {},
   "source": [
    "## Save a CPACS File"
   ]
  },
  {
   "cell_type": "markdown",
   "metadata": {},
   "source": [
    "Once we have modified the CPACS model using TiXI, we can save the updated dataset as a new XML file:"
   ]
  },
  {
   "cell_type": "code",
   "execution_count": null,
   "metadata": {
    "tags": []
   },
   "outputs": [],
   "source": [
    "tixi_h.save('D250-TF-2040_NEW.xml')\n",
    "tixi_h.close()"
   ]
  },
  {
   "cell_type": "markdown",
   "metadata": {},
   "source": [
    "Don't forget to call the `tixi_h.close()` method after saving!\n",
    "\n",
    "You can now also open that CPACS file with a text editor and see your modifications."
   ]
  }
 ],
 "metadata": {
  "kernelspec": {
   "display_name": "Python 3 (ipykernel)",
   "language": "python",
   "name": "python3"
  },
  "language_info": {
   "codemirror_mode": {
    "name": "ipython",
    "version": 3
   },
   "file_extension": ".py",
   "mimetype": "text/x-python",
   "name": "python",
   "nbconvert_exporter": "python",
   "pygments_lexer": "ipython3",
   "version": "3.12.11"
  }
 },
 "nbformat": 4,
 "nbformat_minor": 4
}
