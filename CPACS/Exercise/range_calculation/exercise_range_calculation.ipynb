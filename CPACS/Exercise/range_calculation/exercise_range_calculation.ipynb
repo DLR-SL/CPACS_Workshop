{
 "cells": [
  {
   "cell_type": "markdown",
   "id": "b1e00a75-63eb-48fc-b637-d3fe28fda90f",
   "metadata": {},
   "source": [
    "# TiXI Exercise 2: Calculate Range of an Aircraft\n",
    "\n",
    "In this exercise we will learn how to perform an analysis using the data read from a CPACS file that is a result of **EXACT** project.\n",
    "The CPACS file has been downloaded from **Digital Hangar**. You can reach to the website by clicking on this link: https://www.digital-hangar.de/\n",
    "\n",
    "The goal is to understand how performance parameters stored in CPACS can be accessed with **TiXI** and then applied to a simple performance model. Specifically, we will:\n",
    "\n",
    "- Explore the structure of the CPACS file and identify key parameters  \n",
    "- Use TiXI commands to read relevant data from CPACS file\n",
    "- **Module 1:** Apply the **Breguet Range Equation** to estimate the aircraft’s actual cruise range  (Primary Exercise)\n",
    "- **Module 2:** Study the **change in range** according to the change in fuel weight  (Optional Exercise)\n",
    "\n",
    "By the end of this exercise, you will gain hands-on experience in:  \n",
    "\n",
    "- Navigating XML data with TiXI  \n",
    "- Performing a practical calculation directly linked to aircraft performance  \n",
    "- Updating CPACS files with new results for downstream analysis  \n",
    "\n",
    "This exercise aims to give you a first taste of how digital aircraft design workflows can be automated.\n",
    "\n",
    "\n",
    "#### Note: Show solutions\n",
    "\n",
    "To view and run the solutions, simply uncomment the # %load statement."
   ]
  },
  {
   "cell_type": "markdown",
   "id": "ee3b44d7-f9fc-466d-8b60-1d79ad60a39c",
   "metadata": {},
   "source": [
    "## Step 1: Initiate TiXI & Load Data\n",
    "As always, the first thing we need to do is to import and initialize *tixi*:"
   ]
  },
  {
   "cell_type": "code",
   "execution_count": null,
   "id": "cf167bf8-d548-41f6-a4f2-febb5aa1b8fe",
   "metadata": {},
   "outputs": [],
   "source": [
    "# import and initialize tixi\n",
    "# ..."
   ]
  },
  {
   "cell_type": "code",
   "execution_count": null,
   "id": "95ea6384-d844-488e-9a66-8e3faa295437",
   "metadata": {},
   "outputs": [],
   "source": [
    "# %load ./solutions/importTixi.py"
   ]
  },
  {
   "cell_type": "markdown",
   "id": "9081b1e4-037f-49bb-bee5-56fc0d8c0206",
   "metadata": {},
   "source": [
    "Let us now open our example file located at `resources/D250-TF-2040.xml` that has been downloaded from Digital Hanger."
   ]
  },
  {
   "cell_type": "code",
   "execution_count": null,
   "id": "58b9de83-3838-40de-b705-c3f031bf3805",
   "metadata": {},
   "outputs": [],
   "source": [
    "# open the CPACS file with tixi\n",
    "# ..."
   ]
  },
  {
   "cell_type": "code",
   "execution_count": null,
   "id": "79055c73-0d22-4f6c-b055-ab9310212769",
   "metadata": {},
   "outputs": [],
   "source": [
    "# %load ./solutions/tixiOpenFile.py"
   ]
  },
  {
   "cell_type": "markdown",
   "id": "68524803-7e70-4327-ad30-e4787551f55b",
   "metadata": {},
   "source": [
    "## Step 2: Read Parameters\n",
    "\n",
    "In this part of the exercise, we will perform an analysis based on the **Breguet Range Equation**.\n",
    "\n",
    "### Breguet Range Equation\n",
    "\n",
    "The range for a given amount of fuel is expressed as:\n",
    "\n",
    "$\n",
    "R = \\frac{V}{\\text{TSFC}} \\cdot \\frac{L}{D} \\cdot \n",
    "\\ln \\left( 1 + \\frac{W_{\\text{fuel}}}{W_{PL} + W_0} \\right)\n",
    "$\n",
    "\n",
    "Where:\n",
    "\n",
    "- $V$ = Cruise Velocity  \n",
    "- $\\text{TSFC}$ = Thrust Specific Fuel Consumption\n",
    "- $\\frac{L}{D}$ = Lift-to-Drag Ratio  \n",
    "- $W_{\\text{fuel}}$ = Fuel Weight  \n",
    "- $W_{PL}$ = Payload Weight  \n",
    "- $W_0$ = Operating Empty Weight (OEW) or Dry Weight of Vehicle\n",
    "\n",
    "To calculate the range, we first need to **read the relevant parameters** from the CPACS file using TiXI.  \n",
    "Let’s check which values are already provided in the dataset before carrying out the calculation."
   ]
  },
  {
   "cell_type": "code",
   "execution_count": null,
   "id": "431cc261-a6f8-4150-ba61-e2cfea089e36",
   "metadata": {},
   "outputs": [],
   "source": [
    "# Known parameters for EXACT Turbofan Baseline aircraft\n",
    "V_cruise = 231.3 # m/s\n",
    "TSFC = 4.02e-4   # s⁻¹\n",
    "L_D = 21"
   ]
  },
  {
   "cell_type": "markdown",
   "id": "dfb02af6-cf86-438b-aa35-f2bdc841f180",
   "metadata": {},
   "source": [
    "Now, we need to read the **fuel, payload, and overall empty weights** to perform the Range equation."
   ]
  },
  {
   "cell_type": "markdown",
   "id": "4f34a9db-ce6a-4e74-97e5-d7bd1d824383",
   "metadata": {},
   "source": [
    "![Referencing the mass breakdown](resources/read_massBreakdown.png)"
   ]
  },
  {
   "cell_type": "markdown",
   "id": "edc6cf29-ff6e-41d3-aec6-334d5776fbc6",
   "metadata": {},
   "source": [
    "First, lets define the Xpaths of the weights:"
   ]
  },
  {
   "cell_type": "code",
   "execution_count": null,
   "id": "a123e331-d3ae-4a6c-a1d8-5f047972b58c",
   "metadata": {},
   "outputs": [],
   "source": [
    "# Xpaths of the weight parametes\n",
    "M_fuel_xpath = '/cpacs/vehicles/aircraft/model/analyses/massBreakdown/fuel/fuelInTanks/massDescription/mass'\n",
    "M_payload_xpath = '/cpacs/vehicles/aircraft/model/analyses/massBreakdown/payload/massDescription/mass'\n",
    "M_oew_xpath = '/cpacs/vehicles/aircraft/model/analyses/massBreakdown/mOEM/massDescription/mass'"
   ]
  },
  {
   "cell_type": "code",
   "execution_count": null,
   "id": "94bdadbf-e276-4379-b3a3-f02481b28ad1",
   "metadata": {},
   "outputs": [],
   "source": [
    "# Get Fuel Weight, W_fuel\n",
    "M_fuel = tixi_h.getDoubleElement(M_fuel_xpath)\n",
    "W_fuel = M_fuel * 9.81 # N\n",
    "print('Fuel Weight: ', W_fuel, 'N')"
   ]
  },
  {
   "cell_type": "code",
   "execution_count": null,
   "id": "908b2097-7fdc-4939-9b09-86d58bb0c56e",
   "metadata": {},
   "outputs": [],
   "source": [
    "# Get Payload Weight, W_payload\n",
    "# ..."
   ]
  },
  {
   "cell_type": "code",
   "execution_count": null,
   "id": "c93b5ad3-319d-4ac3-adeb-dc873865bba4",
   "metadata": {},
   "outputs": [],
   "source": [
    "# %load ./solutions/tixiGetPayloadWeight.py"
   ]
  },
  {
   "cell_type": "code",
   "execution_count": null,
   "id": "6779a405-ffa0-4f94-be19-b9ad9fb41010",
   "metadata": {},
   "outputs": [],
   "source": [
    "# Get OEW Weight, W_oew\n",
    "# ..."
   ]
  },
  {
   "cell_type": "code",
   "execution_count": null,
   "id": "a051ee7a-cccc-4eac-a183-4a9a0d01aa60",
   "metadata": {},
   "outputs": [],
   "source": [
    "# %load ./solutions/tixiGetOewWeight.py"
   ]
  },
  {
   "cell_type": "markdown",
   "id": "19f7c7d5-7011-4209-98dd-453c88c339aa",
   "metadata": {},
   "source": [
    "## Step 3: Calculate the Design Range\n",
    "\n",
    "Now that we have all the data necessary for the range equation, we can use it to **calculate the range of the aircraft**.  \n",
    "\n",
    "In the CPACS file, two design ranges are defined:\n",
    "\n",
    "- **Required range**: The target range specified in the design requirements  \n",
    "- **Actual range**: The calculated range based on aircraft performance parameters  \n",
    "\n",
    "Our task is to calculate the actual range using the Breguet equation and then update the **`<actual>`** value in the CPACS file. This allows us to directly compare the **required** and **achieved** performance in the digital model."
   ]
  },
  {
   "cell_type": "markdown",
   "id": "b52013b4-ed8e-4999-a62e-132e2cfa2d84",
   "metadata": {},
   "source": [
    "![Referencing the design ranges](resources/cpacs_updateDesignRange.png)"
   ]
  },
  {
   "cell_type": "code",
   "execution_count": null,
   "id": "6d5e63f6-0cb7-4ec4-a516-c9f0cd7a0e1b",
   "metadata": {},
   "outputs": [],
   "source": [
    "### Calculate Breguet Range\n",
    "import math\n",
    "\n",
    "def calculate_range(V_cruise, TSFC, L_D, W_fuel, W_payload, W_oew):\n",
    "    \"\"\"Calculate range using Breguet equation\"\"\"\n",
    "    fuel_fraction = W_fuel / (W_payload + W_oew)\n",
    "    R = (V_cruise / TSFC) * L_D * math.log(1 + fuel_fraction)\n",
    "    return R\n",
    "\n",
    "# Calculate current range\n",
    "R = calculate_range(V_cruise, TSFC, L_D, W_fuel, W_payload, W_oew)\n",
    "\n",
    "# convert to km and round\n",
    "R_km = round(R / 1000, 0) \n",
    "print('Calculated Range:', R_km, 'km')"
   ]
  },
  {
   "cell_type": "markdown",
   "id": "7e34dddf-afe5-47fc-8ba9-5c1cb21352e6",
   "metadata": {},
   "source": [
    "## Step 4: Validate the result\n",
    "Lets read the design range for this aircraft and compare the result."
   ]
  },
  {
   "cell_type": "code",
   "execution_count": null,
   "id": "12225b39-e69a-4d88-9c78-a9905205e100",
   "metadata": {},
   "outputs": [],
   "source": [
    "# Read Current actual Design Range\n",
    "R_actual = tixi_h.getDoubleElement('/cpacs/vehicles/aircraft/model/global/designRange/actual')\n",
    "\n",
    "# convert to km and round\n",
    "R_actual_km = round(R_actual / 1000, 0) \n",
    "print('Design Actual Range:', R_actual_km, 'km')"
   ]
  },
  {
   "cell_type": "markdown",
   "id": "cfb8fda3-800c-4d7a-bec2-db1f1da79022",
   "metadata": {},
   "source": [
    "## Step 5: Write Data to a CPACS Model"
   ]
  },
  {
   "cell_type": "markdown",
   "id": "31ad4c3e-3db0-4b9a-9b31-9d46c4242166",
   "metadata": {},
   "source": [
    "After we have seen how to read data from a CPACS model, let us now write data to it!\n",
    "\n",
    "Let's update the actual range of the CPACS file the calculated range:"
   ]
  },
  {
   "cell_type": "code",
   "execution_count": null,
   "id": "2384b154-8f6a-4e13-ba7b-c716a5f03167",
   "metadata": {},
   "outputs": [],
   "source": [
    "# Actual Range Xpath\n",
    "actual_range_xpath = '/cpacs/vehicles/aircraft/model/global/designRange/actual'"
   ]
  },
  {
   "cell_type": "markdown",
   "id": "219dee6a-ca60-4f75-8c71-03312832fcd3",
   "metadata": {},
   "source": [
    "Now we need to update the **actual range** in the CPACS file using the `updateDoubleElement()` command from TiXI.  \n",
    "\n",
    "For example, if we wanted to update the element `cargoCapacity` with a new value stored in `new_cargoCapacity`, the command would look like this:  \n",
    "\n",
    "```python\n",
    "tixi_h.updateDoubleElement(cargoCapacity_xpath, float(new_cargoCapacity), '%.1f')"
   ]
  },
  {
   "cell_type": "code",
   "execution_count": null,
   "id": "a7ee2717-a96b-41df-a683-ca4b94dead00",
   "metadata": {},
   "outputs": [],
   "source": [
    "# Update the actual range\n",
    "# ..."
   ]
  },
  {
   "cell_type": "code",
   "execution_count": null,
   "id": "a8829a82-9a7c-4e98-8445-9196df9c0a83",
   "metadata": {},
   "outputs": [],
   "source": [
    "# %load ./solutions/tixiUpdateActualRange.py"
   ]
  },
  {
   "cell_type": "markdown",
   "id": "7fef504d-36ef-4590-b1e0-ed6a23988d0d",
   "metadata": {},
   "source": [
    "## Step 6: Save a CPACS File"
   ]
  },
  {
   "cell_type": "code",
   "execution_count": null,
   "id": "4c1f69cb-b897-4921-842b-03517b2d88d0",
   "metadata": {},
   "outputs": [],
   "source": [
    "# save and close the file\n",
    "# ..."
   ]
  },
  {
   "cell_type": "code",
   "execution_count": null,
   "id": "7e45a54d-c8a0-406b-8e72-b3a00f639bb2",
   "metadata": {},
   "outputs": [],
   "source": [
    "# %load ./solutions/tixiSaveFile.py"
   ]
  },
  {
   "cell_type": "markdown",
   "id": "47cff2a3-5152-4b7e-81fd-073fe7f51123",
   "metadata": {},
   "source": [
    "Don't forget to call the `tixi_h.close()` method after saving!\n",
    "\n",
    "You can now also open that CPACS file with a text editor and see your modifications."
   ]
  },
  {
   "cell_type": "markdown",
   "id": "7b6d24b3-601f-4697-aab3-a4c050efa2f3",
   "metadata": {},
   "source": [
    "## Module 2: Study the Change of Range According to Fuel Weight Change"
   ]
  },
  {
   "cell_type": "markdown",
   "id": "1e146170-798a-4a18-920c-70b6d305dd87",
   "metadata": {},
   "source": [
    "In this module, we will examine how variations in fuel weight affect the aircraft’s range."
   ]
  },
  {
   "cell_type": "code",
   "execution_count": null,
   "id": "4e8bcac6-fb77-4154-8b1a-1e139e6ebbd7",
   "metadata": {},
   "outputs": [],
   "source": [
    "tixi_h.open('cpacs_files/Exact_turbofan.xml')"
   ]
  },
  {
   "cell_type": "code",
   "execution_count": null,
   "id": "f6d6ef6b-fa63-4519-b405-0a058be082c7",
   "metadata": {},
   "outputs": [],
   "source": [
    "# Test different fuel weight changes\n",
    "# (+) for increase, (-) for decrease\n",
    "fuel_change = 0.2 # 20% "
   ]
  },
  {
   "cell_type": "code",
   "execution_count": null,
   "id": "46116d1e-e544-45e4-a256-59e62b210ec5",
   "metadata": {},
   "outputs": [],
   "source": [
    "# Calculate new fuel weight\n",
    "W_fuel_new = W_fuel + W_fuel * fuel_change\n",
    "print('New Fuel Weight: ', W_fuel_new, 'N')"
   ]
  },
  {
   "cell_type": "markdown",
   "id": "030d44c9-732c-4dc2-9817-2fd73fb9ced4",
   "metadata": {},
   "source": [
    "Lets check how that changes our range"
   ]
  },
  {
   "cell_type": "code",
   "execution_count": null,
   "id": "7595d712-fb27-4736-bc0a-6a2e4c9c8cbf",
   "metadata": {},
   "outputs": [],
   "source": [
    "# Calculate range with updated fuel weight\n",
    "R_new = calculate_range(V_cruise, TSFC, L_D, W_fuel_new, W_payload, W_oew)\n",
    "\n",
    "# convert to km and round\n",
    "R_new_km = round(R_new / 1000, 0) \n",
    "print('Range:', R_new_km, 'km')\n",
    "\n",
    "# Calculate the change of range by percentage\n",
    "R_change = (R_new_km - R_km) / R_km * 100   # use old range as reference\n",
    "\n",
    "if R_change > 0:\n",
    "    print(f\"Range increased by {R_change:.2f}%\")\n",
    "elif R_change < 0:\n",
    "    print(f\"Range decreased by {abs(R_change):.2f}%\")\n",
    "else:\n",
    "    print(\"No change in range.\")"
   ]
  },
  {
   "cell_type": "markdown",
   "id": "98610822-7301-43ca-bcec-76e614b469bd",
   "metadata": {},
   "source": [
    "## Write Data to a CPACS Model"
   ]
  },
  {
   "cell_type": "markdown",
   "id": "f6b776a8-ca09-444d-813c-fe0515b67206",
   "metadata": {},
   "source": [
    "After we have seen how to read data from a CPACS model, let us now write data to it!\n",
    "\n",
    "Let's add the calculated range to the CPACS file in the place of the actual range: "
   ]
  },
  {
   "cell_type": "code",
   "execution_count": null,
   "id": "f54106b7-e6a5-470e-ac54-fa333223aa01",
   "metadata": {},
   "outputs": [],
   "source": [
    "# Update the actual range\n",
    "# ..."
   ]
  },
  {
   "cell_type": "code",
   "execution_count": null,
   "id": "43dbdd55-1dc5-4257-a6eb-9c7f9ba977ee",
   "metadata": {},
   "outputs": [],
   "source": [
    "# %load ./solutions/tixiUpdateActualRangeWithNewRange.py"
   ]
  },
  {
   "cell_type": "markdown",
   "id": "310f01ee-0960-4467-ae25-ff08a1244191",
   "metadata": {},
   "source": [
    "## Save a CPACS File"
   ]
  },
  {
   "cell_type": "code",
   "execution_count": null,
   "id": "d7eeb13f-e9cf-4ff9-8b35-139bfa0b6d5c",
   "metadata": {},
   "outputs": [],
   "source": [
    "# save and close the file\n",
    "# ..."
   ]
  },
  {
   "cell_type": "code",
   "execution_count": null,
   "id": "d8bddb68-6a6c-40c1-952c-dc95fc2a41d6",
   "metadata": {},
   "outputs": [],
   "source": [
    "# %load ./solutions/tixiSaveFileNewRange.py"
   ]
  },
  {
   "cell_type": "markdown",
   "id": "9ae32b9f-8e4d-41aa-92c4-6329fb20d8b0",
   "metadata": {},
   "source": [
    "Don't forget to call the `tixi_h.close()` method after saving!\n",
    "\n",
    "You can now also open that CPACS file with a text editor and see your modifications."
   ]
  }
 ],
 "metadata": {
  "kernelspec": {
   "display_name": "Python 3 (ipykernel)",
   "language": "python",
   "name": "python3"
  },
  "language_info": {
   "codemirror_mode": {
    "name": "ipython",
    "version": 3
   },
   "file_extension": ".py",
   "mimetype": "text/x-python",
   "name": "python",
   "nbconvert_exporter": "python",
   "pygments_lexer": "ipython3",
   "version": "3.12.11"
  }
 },
 "nbformat": 4,
 "nbformat_minor": 5
}
