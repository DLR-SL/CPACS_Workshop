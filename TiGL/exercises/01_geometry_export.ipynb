{
 "cells": [
  {
   "cell_type": "markdown",
   "id": "43d59063-3fe0-4b78-87d1-67b85a4974de",
   "metadata": {},
   "source": [
    "# Exercise 1: Introducing TiGL Python API\n",
    "\n",
    "## Goal: Load a CPACS file in TiGL and export the geometry\n",
    "\n",
    "> Hint: Use the [python help method](https://docs.python.org/3/library/functions.html#help) or [TiGL documentation](https://dlr-sc.github.io/tigl/doc/latest) to learn about the methods of `TiGL`. *Remember that in TiGL C++ functions are CamelCase and Python uses snake_case.*\n",
    "\n",
    "### Steps:\n",
    "**Load the configuration**\n",
    "\n",
    "- Open CPACS with Tixi3. \n",
    "\n",
    "- Open geometry with Tigl3. \n",
    "\n",
    "- Get configuration from configuration manager.\n",
    "\n",
    "**Retrieve geometric elements**\n",
    "\n",
    "- Access geometric components (wing/fuselage/fuel tank) via configuration or UIDMgr. \n",
    "\n",
    "- Get shape with .get_loft(). \n",
    "\n",
    "**Export shapes to CAD Formats**\n",
    "- Create exporter for chosen format. \n",
    "\n",
    "- Add shape/configuration to exporter. \n",
    "\n",
    "- Write file with exporter. \n",
    "\n",
    "\n",
    "**Check files in GUI or display**\n",
    "- Open exported files in TiGL Creator (or view them with Jupyter Display)\n"
   ]
  },
  {
   "cell_type": "code",
   "execution_count": 50,
   "id": "4c7aacc2-24d0-475f-bd97-ae4126265b39",
   "metadata": {},
   "outputs": [],
   "source": [
    "#do the imports\n",
    "from tixi3 import tixi3wrapper\n",
    "from tigl3 import tigl3wrapper\n",
    "import tigl3.configuration\n",
    "from tigl3.exports import create_exporter\n",
    "\n",
    "from OCC.Display.WebGl.jupyter_renderer import JupyterRenderer\n",
    "\n",
    "import os"
   ]
  },
  {
   "cell_type": "markdown",
   "id": "4b4e9120-325f-4412-baf4-c169b14497db",
   "metadata": {},
   "source": [
    "## Open the CPACS file with TIXI"
   ]
  },
  {
   "cell_type": "code",
   "execution_count": 51,
   "id": "d802e5d1-091f-4607-b365-fa7c09319ec0",
   "metadata": {},
   "outputs": [],
   "source": [
    "#specify directory and filename\n",
    "datadir = os.path.join(\"..\", \"data\")\n",
    "file = \"simpletest-fuelTanks.cpacs.xml\""
   ]
  },
  {
   "cell_type": "code",
   "execution_count": 52,
   "id": "ce10e26c-0a13-476b-b52d-320586998961",
   "metadata": {},
   "outputs": [],
   "source": [
    "#create handles\n",
    "tixi_h = tixi3wrapper.Tixi3()\n",
    "tigl_h = tigl3wrapper.Tigl3()\n",
    "\n",
    "#initialize handles\n",
    "tixi_h.open(os.path.join(datadir,file))\n",
    "tigl_h.open(tixi_h, \"\")"
   ]
  },
  {
   "cell_type": "markdown",
   "id": "0c606ba6-4fda-478b-a21e-7862f3bf83a6",
   "metadata": {},
   "source": [
    "## Load the Configuration and Configuration Manager"
   ]
  },
  {
   "cell_type": "code",
   "execution_count": 53,
   "id": "5d9fcb4b-4591-4adb-a714-60888904b601",
   "metadata": {},
   "outputs": [],
   "source": [
    "#load the configuration manager\n",
    "mgr = tigl3.configuration.CCPACSConfigurationManager_get_instance()\n",
    "\n",
    "#load the configuration\n",
    "config = mgr.get_configuration(tigl_h._handle.value)"
   ]
  },
  {
   "cell_type": "markdown",
   "id": "1da2749a-ea86-4789-ab52-d5f139c2738f",
   "metadata": {},
   "source": [
    "## Retrieve the shapes from configuration\n",
    "### - via configuration by Index\n",
    "1. Retrieve the wing object. (by index 1)\n",
    "2. Get the loft of the wing object\n",
    "3. Do the same for the fuselage"
   ]
  },
  {
   "cell_type": "code",
   "execution_count": 1,
   "id": "7d608b4f-71b6-4dfd-95bc-3f3b728455fe",
   "metadata": {},
   "outputs": [],
   "source": [
    "#retrieve the wing from configuration\n",
    "wing = None #fix this line\n",
    "\n",
    "#get the loft\n",
    "wing_shape = None #fix this line\n",
    "\n",
    "#retrieve the fuselage from configuration\n",
    "fuselage = None #fix this line\n",
    "\n",
    "#get the loft\n",
    "fuselage_shape = None #fix this line"
   ]
  },
  {
   "cell_type": "markdown",
   "id": "9338336b-cb31-4ae9-8cf5-33733559a240",
   "metadata": {},
   "source": [
    "### - via uid manager\n",
    "\n",
    "1. Get the uid manager for configuration\n",
    "2. Get the geometric component 'fuelTank' via uid = \"tank1\"\n",
    "3. Get loft of the tank"
   ]
  },
  {
   "cell_type": "code",
   "execution_count": 2,
   "id": "a76f6fa9-1218-49b5-9bba-e36a5c319d1b",
   "metadata": {},
   "outputs": [],
   "source": [
    "#get uid manager\n",
    "uid_mgr = None #fix this line\n",
    "\n",
    "#get component\n",
    "fuelTank = None #fix this line\n",
    "\n",
    "#get the loft\n",
    "fuelTank_shape = None #fix this line"
   ]
  },
  {
   "cell_type": "markdown",
   "id": "8e3fb1fc-9a68-4918-ad74-85cfc35ecad0",
   "metadata": {},
   "source": [
    "## Export shapes to CAD\n",
    "\n",
    "### Export option 1\n",
    "\n",
    "1. Create Exporter for chosen format: \"igs\":IGES \"stp\":STEP \"brep\": BREP using the function `create_exporter(format: str)`\n",
    "2. Add the *wing shape* to the exporter\n",
    "3. Use Exporter to write the *.brep/*.igs/*.stp file\n",
    "\n",
    "Repeat for the fuselage and the fuelTank. If you create seperate exporters and add a shape to each, you can export the geometric components seperately."
   ]
  },
  {
   "cell_type": "code",
   "execution_count": null,
   "id": "81fe8c8d-9126-4b9c-8be5-ee627d5a2169",
   "metadata": {},
   "outputs": [],
   "source": [
    "#create brep exporter\n",
    "brep_exporter_wing = None #fix this line\n",
    "\n",
    "#add shape\n",
    "# ...\n",
    "\n",
    "#write file\n",
    "# ...\n",
    "\n",
    "#create iges exporter\n",
    "iges_exporter_fuelTank = None #fix this line\n",
    "\n",
    "#add shape\n",
    "# ...\n",
    "\n",
    "#write file\n",
    "# ...\n",
    "\n",
    "#create step exporter\n",
    "step_exporter_fuselage = None #fix this line\n",
    "\n",
    "#add shape\n",
    "# ...\n",
    "\n",
    "#write file\n",
    "# ...\n"
   ]
  },
  {
   "cell_type": "markdown",
   "id": "7a4cb799-5842-40dc-ac95-00a27e9f8d48",
   "metadata": {},
   "source": [
    "### Export option 2\n",
    "\n",
    "1. Create Exporter for chosen format\n",
    "2. Add the *configuration* to the exporter\n",
    "3. Use Exporter to write the file\n",
    "\n",
    "*Note:* If you are interested, have a look at the [exporter options](https://dlr-sc.github.io/tigl/doc/latest/classtigl_1_1ExporterOptions.html) in TIGL.\n"
   ]
  },
  {
   "cell_type": "code",
   "execution_count": null,
   "id": "b219884c-d290-4df3-9641-c71a0788b33d",
   "metadata": {},
   "outputs": [],
   "source": [
    "#uncomment next line to apply symmmetry before creating exporter for configuration, try what happens if you ommit this step\n",
    "#tigl_h.setExportOptions(\"igs\", \"ApplySymmetries\", \"True\")\n",
    "\n",
    "#Create another exporter instance\n",
    "iges_exporter_config = None #fix this line\n",
    "\n",
    "#add configuration\n",
    "# ...\n",
    "\n",
    "#write file\n",
    "# ..."
   ]
  },
  {
   "cell_type": "markdown",
   "id": "4960aec7-95a0-4563-beb0-f68b4bf57f60",
   "metadata": {},
   "source": [
    "> -> **Go ahead and open the exported files in your favorite CAD viewer, the TiGLCreator!** <-\n",
    "\n",
    "You can check your shapes with the Jupyter Renderer first if you like. Use or edit the code below."
   ]
  },
  {
   "cell_type": "code",
   "execution_count": null,
   "id": "a2c58c90-f59b-43ef-bbef-a1aa3ccdabaf",
   "metadata": {},
   "outputs": [],
   "source": [
    "'''\n",
    "open display (comment or uncomment lines that you want /don't want to show on display)\n",
    "'''\n",
    "display = JupyterRenderer()\n",
    "\n",
    "display.DisplayShape(\n",
    "    fuelTank_shape.shape(),\n",
    "    render_edges=True,\n",
    "    edge_color=\"white\",\n",
    "    edge_deflection=0.1,\n",
    "    transparency=True,\n",
    "    opacity = 0.5,\n",
    "    topo_level=\"Face\",\n",
    "    shape_color=\"pink\",\n",
    "    update=False,\n",
    "    selectable=True)\n",
    "\n",
    "display.DisplayShape(\n",
    "    wing_shape.shape(),\n",
    "    render_edges=True,\n",
    "    edge_color=\"white\",\n",
    "    edge_deflection=0.1,\n",
    "    transparency=True,\n",
    "    opacity = 0.5,\n",
    "    topo_level=\"Face\",\n",
    "    shape_color=\"pink\",\n",
    "    update=False,\n",
    "    selectable=True)\n",
    "\n",
    "display.Display()"
   ]
  }
 ],
 "metadata": {
  "kernelspec": {
   "display_name": "Python 3 (ipykernel)",
   "language": "python",
   "name": "python3"
  },
  "language_info": {
   "codemirror_mode": {
    "name": "ipython",
    "version": 3
   },
   "file_extension": ".py",
   "mimetype": "text/x-python",
   "name": "python",
   "nbconvert_exporter": "python",
   "pygments_lexer": "ipython3",
   "version": "3.12.11"
  }
 },
 "nbformat": 4,
 "nbformat_minor": 5
}
