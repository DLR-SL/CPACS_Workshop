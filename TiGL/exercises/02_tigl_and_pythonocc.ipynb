{
 "cells": [
  {
   "cell_type": "markdown",
   "id": "b5d44235-3fc2-479a-87fa-61711795a633",
   "metadata": {},
   "source": [
    "# Exercise 2: Introducing TiGL Geometry Functionality\n",
    "\n",
    "## Goal: Access and manipulate a CPACS-based geometry using the TiGL geometry kernel with OCC classes\n",
    "\n",
    "### Steps (some of them are already prepared):\n",
    "\n",
    "**Load the configuration:**\n",
    "\n",
    "- Open CPACS with TiXI3. \n",
    "- Open geometry with TiGL3. \n",
    "- Get the configuration from the `CCPACSConfigurationManager`. \n",
    "\n",
    "- Access geometric components (wing/fuselage/fuel tank) via configuration or UIDMgr.\n",
    "- Get the wing component by UID.\n",
    "\n",
    "\n",
    "**Prepare 3D visualization (OCC)**\n",
    "\n",
    "**Execute geometric operations:**\n",
    "\n",
    "- Create a primitive box (OCC)\n",
    "- Transform the box (TiGL)\n",
    "\n",
    "- Wrap the box as CNamedShape for boolean operations (TiGL) \n",
    "\n",
    "- Boolean cut: subtract box from wing (TiGL)\n",
    "\n",
    "\n",
    "**Display results**"
   ]
  },
  {
   "cell_type": "markdown",
   "id": "150e010d-391e-4b04-80a6-5b1856620a95",
   "metadata": {},
   "source": [
    "### DO NOT CHANGE THE FOLLOWING CELLS, UNLESS THE CAPTION MENTIONS TODO"
   ]
  },
  {
   "cell_type": "code",
   "execution_count": 1,
   "id": "694690f9-1769-474c-8a43-287e0c8ce38c",
   "metadata": {},
   "outputs": [],
   "source": [
    "#do the imports\n",
    "from tixi3 import tixi3wrapper\n",
    "from tigl3 import tigl3wrapper\n",
    "\n",
    "import tigl3.configuration\n",
    "\n",
    "from tigl3.boolean_ops import CCutShape\n",
    "from tigl3.geometry import CTiglTransformation\n",
    "from tigl3.geometry import CNamedShape\n",
    "from tigl3.geometry import get_face\n",
    "\n",
    "from OCC.Core.BRepPrimAPI import BRepPrimAPI_MakeBox\n",
    "from OCC.Core.gp import gp_Dir\n",
    "\n",
    "from OCC.Display.WebGl.jupyter_renderer import JupyterRenderer\n",
    "from OCC.Extend.DataExchange import read_step_file, export_shape_to_svg\n",
    "\n",
    "import os"
   ]
  },
  {
   "cell_type": "markdown",
   "id": "0813d8c0-aa7b-4e0b-986a-3164be843c41",
   "metadata": {},
   "source": [
    "## Open the CPACS file with TIXI"
   ]
  },
  {
   "cell_type": "code",
   "execution_count": 2,
   "id": "01ade2e0-b142-4b52-ac82-e37fd3fb7f8a",
   "metadata": {},
   "outputs": [],
   "source": [
    "#specify data directory and filename\n",
    "data_dir = os.path.join(\"..\", \"data\")\n",
    "file = \"simpletest.cpacs.xml\""
   ]
  },
  {
   "cell_type": "code",
   "execution_count": 3,
   "id": "a96949ea-7312-4748-ab02-1c0295d0a3f2",
   "metadata": {},
   "outputs": [],
   "source": [
    "#create handles\n",
    "tixi_h = tixi3wrapper.Tixi3()\n",
    "tigl_h = tigl3wrapper.Tigl3()\n",
    "\n",
    "#initialize handles\n",
    "tixi_h.open(os.path.join(data_dir, file))\n",
    "tigl_h.open(tixi_h, \"\")"
   ]
  },
  {
   "cell_type": "markdown",
   "id": "17f2391b-8ae2-4fa6-a805-c58b3037401f",
   "metadata": {},
   "source": [
    "## Load the Configuration and CCAPCSConfigurationManager"
   ]
  },
  {
   "cell_type": "code",
   "execution_count": 4,
   "id": "39a45fb0-a2cc-497e-b2ed-5493c201d394",
   "metadata": {},
   "outputs": [],
   "source": [
    "#load the configuration manager\n",
    "mgr = tigl3.configuration.CCPACSConfigurationManager_get_instance()\n",
    "\n",
    "#load the configuration\n",
    "config = mgr.get_configuration(tigl_h._handle.value)\n",
    "\n",
    "#get uid manager\n",
    "uid_mgr = config.get_uidmanager()"
   ]
  },
  {
   "cell_type": "markdown",
   "id": "b9c0a443-db2d-4840-9a8a-8150194e06e1",
   "metadata": {},
   "source": [
    "## TODO: Create a primitive box with OCC\n",
    "\n",
    "1. Create a box shape using the OCC class `BRepPrimAPI_MakeBox(x,y,z)`, (x,y,z) = (0.2, 0.8, 0.5)\n",
    "2. Retrieve geometric component with the UID \"Wing\" from configuration using the uid manager (use `help(uid_mgr)`)\n"
   ]
  },
  {
   "cell_type": "code",
   "execution_count": 5,
   "id": "49a8e3cc-6349-4d10-85bc-7f9a7743000c",
   "metadata": {},
   "outputs": [],
   "source": [
    "# uncomment the following code line for help\n",
    "#help(uid_mgr)"
   ]
  },
  {
   "cell_type": "code",
   "execution_count": 6,
   "id": "10cc45a2-108e-4cc7-90ec-47341f0f69c0",
   "metadata": {},
   "outputs": [],
   "source": [
    "#insert code\n",
    "\n",
    "tmp_box = None #fix this line\n",
    "tmp_wing = None #fix this line\n",
    "\n",
    "# transform the objects to be usable for TiGL and the display function\n",
    "box = tmp_box.Solid()\n",
    "wing = tmp_wing.get_loft()"
   ]
  },
  {
   "cell_type": "markdown",
   "id": "53b50d16-f1a3-4ab3-96fe-9a5ca9e323ad",
   "metadata": {},
   "source": [
    "## Create a JupyterRenderer object to view the created shapes in this exercise"
   ]
  },
  {
   "cell_type": "code",
   "execution_count": 7,
   "id": "b53bcf41-6f37-4f23-99e7-9a9209eb5130",
   "metadata": {},
   "outputs": [],
   "source": [
    "'''\n",
    "open display\n",
    "'''\n",
    "display_box = JupyterRenderer()\n",
    "display_wing = JupyterRenderer()\n",
    "\n",
    "#help(display)"
   ]
  },
  {
   "cell_type": "code",
   "execution_count": 8,
   "id": "220e6e66-ebab-4f2e-8b56-ae1f7213a8af",
   "metadata": {},
   "outputs": [
    {
     "data": {
      "application/vnd.jupyter.widget-view+json": {
       "model_id": "fc0bc30ec2454acb8d94c4c36ec24ae1",
       "version_major": 2,
       "version_minor": 0
      },
      "text/plain": [
       "HBox(children=(VBox(children=(HBox(children=(Checkbox(value=True, description='Axes', layout=Layout(height='au…"
      ]
     },
     "metadata": {},
     "output_type": "display_data"
    }
   ],
   "source": [
    "# display the plain wing\n",
    "display_wing.DisplayShape(\n",
    "    wing.shape(),\n",
    "    render_edges=True,\n",
    "    edge_color=\"white\",\n",
    "    edge_deflection=0.1,\n",
    "    transparency=True,\n",
    "    opacity = 0.5,\n",
    "    topo_level=\"Face\",\n",
    "    shape_color=\"green\",\n",
    "    update=True,\n",
    "    selectable=True)"
   ]
  },
  {
   "cell_type": "code",
   "execution_count": 9,
   "id": "4978c4fa-0bd5-4fb5-a392-cbef1b0ed2c1",
   "metadata": {},
   "outputs": [
    {
     "data": {
      "application/vnd.jupyter.widget-view+json": {
       "model_id": "3be8857323134331a9b6358761f9db19",
       "version_major": 2,
       "version_minor": 0
      },
      "text/plain": [
       "HBox(children=(VBox(children=(HBox(children=(Checkbox(value=True, description='Axes', layout=Layout(height='au…"
      ]
     },
     "metadata": {},
     "output_type": "display_data"
    }
   ],
   "source": [
    "# display the plain box\n",
    "display_box.DisplayShape(\n",
    "    box,\n",
    "    render_edges=True,\n",
    "    edge_color=\"white\",\n",
    "    edge_deflection=0.1,\n",
    "    transparency=True,\n",
    "    opacity = 0.5,\n",
    "    topo_level=\"Face\",\n",
    "    shape_color=\"pink\",\n",
    "    update=True,\n",
    "    selectable=True)"
   ]
  },
  {
   "cell_type": "markdown",
   "id": "edb39f06-2e00-4c31-ae75-d76c198a51f2",
   "metadata": {},
   "source": [
    "## TODO: Use TiGL to translate the box\n",
    "\n",
    "3. Create A CTiGlTransformation object and add a translation by (dx,dy,dz)=(0.8, 0.6, -0.15) to it.\n",
    "4. Apply the transformation object to obtain the `moved_box`\n",
    "\n",
    "Hint: Use the [python help method](https://docs.python.org/3/library/functions.html#help) or [TiGL documentation](https://dlr-sc.github.io/tigl/doc/latest/classtigl_1_1CTiglTransformation.html) to learn about the methods of `CTiGLTransformation`. *Remember that in TiGL C++ functions are CamelCase and Python uses snake_case.*"
   ]
  },
  {
   "cell_type": "code",
   "execution_count": 10,
   "id": "b69054a3-2f87-4dba-9dcb-789113440b3e",
   "metadata": {},
   "outputs": [],
   "source": [
    "'''\n",
    "move Box\n",
    "'''\n",
    "# insert code here...\n",
    "trafo = None # fix this line\n",
    "# Add translation\n",
    "moved_box = None # fix this line"
   ]
  },
  {
   "cell_type": "code",
   "execution_count": 11,
   "id": "8ae5f4f3-a24d-487b-8332-b5d7363968ed",
   "metadata": {},
   "outputs": [
    {
     "data": {
      "application/vnd.jupyter.widget-view+json": {
       "model_id": "98963c4860924172b550309557deadca",
       "version_major": 2,
       "version_minor": 0
      },
      "text/plain": [
       "HBox(children=(VBox(children=(HBox(children=(Checkbox(value=True, description='Axes', layout=Layout(height='au…"
      ]
     },
     "metadata": {},
     "output_type": "display_data"
    }
   ],
   "source": [
    "#display moved box\n",
    "\n",
    "display_moved_box = JupyterRenderer()\n",
    "\n",
    "display_moved_box.DisplayShape(\n",
    "    moved_box,\n",
    "    render_edges=True,\n",
    "    edge_color=\"white\",\n",
    "    edge_deflection=0.1,\n",
    "    transparency=True,\n",
    "    opacity = 0.5,\n",
    "    topo_level=\"Face\",\n",
    "    shape_color=\"yellow\",\n",
    "    update=True,\n",
    "    selectable=True)"
   ]
  },
  {
   "cell_type": "markdown",
   "id": "494ab71d-b783-4e90-8d77-4196e32c3dcb",
   "metadata": {},
   "source": [
    "## TODO: Use TiGL to make the box a cutout shape \n",
    "\n",
    "5. Create a cutout shape based on `box` (`CNamedShape(<your_translated_box, \"Cutout\")`)\n",
    "6. Take both, `wing` and `box`, and cut the `box` out of the `wing` by using `CCutShape(<shape1>,<shape2>)`\n",
    "7. Save the result as a `CNamedShape`"
   ]
  },
  {
   "cell_type": "code",
   "execution_count": 12,
   "id": "baefb48b-e406-42d3-bc33-14ca4b6b17e4",
   "metadata": {},
   "outputs": [],
   "source": [
    "# Create CNamedShape\n",
    "named_box = None #fix this line\n",
    "\n",
    "# Apply cut\n",
    "cutter = None #fix this line\n",
    "\n",
    "# Save result as named_shape()\n",
    "cut_wing_shape = None #fix this line"
   ]
  },
  {
   "cell_type": "markdown",
   "id": "b24d620a-19e0-4990-bc7d-967110499a67",
   "metadata": {},
   "source": [
    "## Finally, display the cutout shape"
   ]
  },
  {
   "cell_type": "code",
   "execution_count": 13,
   "id": "d80f660d-b4d6-48ea-b32b-d652f05ba252",
   "metadata": {},
   "outputs": [
    {
     "data": {
      "application/vnd.jupyter.widget-view+json": {
       "model_id": "2936e48d44a04361a6ccb6ed4f1935ed",
       "version_major": 2,
       "version_minor": 0
      },
      "text/plain": [
       "HBox(children=(VBox(children=(HBox(children=(Checkbox(value=True, description='Axes', layout=Layout(height='au…"
      ]
     },
     "metadata": {},
     "output_type": "display_data"
    }
   ],
   "source": [
    "'''\n",
    "Now check by looking at our file via OCC Display, if the booloean operation worked:\n",
    "'''\n",
    "\n",
    "display_cutout = JupyterRenderer()\n",
    "\n",
    "# Color the new created faces and egdes differently\n",
    "for i in range(0, cut_wing_shape.get_face_count()):\n",
    "    ft = cut_wing_shape.get_face_traits(i)\n",
    "    if ft.origin().name() == \"CutOut\":\n",
    "        color = \"cyan\"\n",
    "    if ft.origin().name() == \"Wing\":\n",
    "        color = \"green\"\n",
    "    display_cutout.DisplayShape(get_face(cut_wing_shape.shape(), i), shape_color=color, render_edges=False, edge_color=\"blue\", edge_deflection=0.05, vertex_color=None, quality=2.0, transparency=True, opacity=0.5, topo_level='default', update=False, selectable=True)\n",
    "\n",
    "display_cutout.Display()"
   ]
  }
 ],
 "metadata": {
  "kernelspec": {
   "display_name": "Python 3 (ipykernel)",
   "language": "python",
   "name": "python3"
  },
  "language_info": {
   "codemirror_mode": {
    "name": "ipython",
    "version": 3
   },
   "file_extension": ".py",
   "mimetype": "text/x-python",
   "name": "python",
   "nbconvert_exporter": "python",
   "pygments_lexer": "ipython3",
   "version": "3.12.11"
  }
 },
 "nbformat": 4,
 "nbformat_minor": 5
}
