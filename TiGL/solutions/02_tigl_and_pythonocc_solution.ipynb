{
 "cells": [
  {
   "cell_type": "markdown",
   "id": "aadc7305-8ec0-4e04-bb5d-76a4f08a9c76",
   "metadata": {},
   "source": [
    "# Exercise 2: Introducing TiGL Geometry Functionality\n",
    "\n",
    "## Goal: Access and manipulate a CPACS-based geometry using the TiGL geometry kernel with OCC classes\n",
    "\n",
    "### Steps (some of them are already prepared):\n",
    "\n",
    "**Load the configuration:**\n",
    "\n",
    "- Open CPACS with TiXI3. \n",
    "- Open geometry with TiGL3. \n",
    "- Get the configuration from the `CCPACSConfigurationManager`. \n",
    "\n",
    "- Access geometric components (wing/fuselage/fuel tank) via configuration or UIDMgr.\n",
    "- Get the wing component by UID.\n",
    "\n",
    "\n",
    "**Prepare 3D visualization (OCC)**\n",
    "\n",
    "**Execute geometric operations:**\n",
    "\n",
    "- Create a primitive box (OCC)\n",
    "- Transform the box (TiGL)\n",
    "\n",
    "- Wrap the box as CNamedShape for boolean operations (TiGL) \n",
    "\n",
    "- Boolean cut: subtract box from wing (TiGL)\n",
    "\n",
    "\n",
    "**Display results**"
   ]
  },
  {
   "cell_type": "code",
   "execution_count": 1,
   "id": "1b6937c2-b8a2-4d06-855f-5f4bf0a2fcfd",
   "metadata": {},
   "outputs": [],
   "source": [
    "#do the imports\n",
    "from tixi3 import tixi3wrapper\n",
    "from tigl3 import tigl3wrapper\n",
    "\n",
    "import tigl3.configuration\n",
    "\n",
    "from tigl3.boolean_ops import CCutShape\n",
    "from tigl3.geometry import CTiglTransformation\n",
    "from tigl3.geometry import CNamedShape\n",
    "from tigl3.geometry import get_face\n",
    "\n",
    "from OCC.Core.BRepPrimAPI import BRepPrimAPI_MakeBox\n",
    "from OCC.Core.gp import gp_Dir\n",
    "\n",
    "from OCC.Display.WebGl.jupyter_renderer import JupyterRenderer\n",
    "from OCC.Extend.DataExchange import read_step_file, export_shape_to_svg\n",
    "\n",
    "import os"
   ]
  },
  {
   "cell_type": "markdown",
   "id": "0813d8c0-aa7b-4e0b-986a-3164be843c41",
   "metadata": {},
   "source": [
    "## Open the CPACS file with TIXI"
   ]
  },
  {
   "cell_type": "code",
   "execution_count": 2,
   "id": "01ade2e0-b142-4b52-ac82-e37fd3fb7f8a",
   "metadata": {},
   "outputs": [],
   "source": [
    "#specify data directory and filename\n",
    "data_dir = os.path.join(\"..\", \"data\")\n",
    "file = \"simpletest.cpacs.xml\""
   ]
  },
  {
   "cell_type": "code",
   "execution_count": 3,
   "id": "a96949ea-7312-4748-ab02-1c0295d0a3f2",
   "metadata": {},
   "outputs": [],
   "source": [
    "#create handles\n",
    "tixi_h = tixi3wrapper.Tixi3()\n",
    "tigl_h = tigl3wrapper.Tigl3()\n",
    "\n",
    "#initialize handles\n",
    "tixi_h.open(os.path.join(data_dir, file))\n",
    "tigl_h.open(tixi_h, \"\")"
   ]
  },
  {
   "cell_type": "markdown",
   "id": "17f2391b-8ae2-4fa6-a805-c58b3037401f",
   "metadata": {},
   "source": [
    "## Load the Configuration and CCAPCSConfigurationManager"
   ]
  },
  {
   "cell_type": "code",
   "execution_count": 4,
   "id": "39a45fb0-a2cc-497e-b2ed-5493c201d394",
   "metadata": {},
   "outputs": [],
   "source": [
    "#load the configuration manager\n",
    "mgr = tigl3.configuration.CCPACSConfigurationManager_get_instance()\n",
    "\n",
    "#load the configuration\n",
    "config = mgr.get_configuration(tigl_h._handle.value)\n",
    "\n",
    "#get uid manager\n",
    "uid_mgr = config.get_uidmanager()"
   ]
  },
  {
   "cell_type": "markdown",
   "id": "b9c0a443-db2d-4840-9a8a-8150194e06e1",
   "metadata": {},
   "source": [
    "## Create a primitive box with OCC"
   ]
  },
  {
   "cell_type": "code",
   "execution_count": 5,
   "id": "10cc45a2-108e-4cc7-90ec-47341f0f69c0",
   "metadata": {},
   "outputs": [],
   "source": [
    "'''\n",
    "create a Box named 'box' with BRepPrimAPI_MakeBox(x,y,z).Solid()\n",
    "'''\n",
    "tmp_box = BRepPrimAPI_MakeBox(0.2, 0.8, 0.5)\n",
    "\n",
    "'''\n",
    "Retrieve geometric component from configuration\n",
    "'''\n",
    "tmp_wing = uid_mgr.get_geometric_component(\"Wing\")\n",
    "\n",
    "# transform the objects to be usable for TiGL and the display function\n",
    "box = tmp_box.Solid()\n",
    "wing = tmp_wing.get_loft()"
   ]
  },
  {
   "cell_type": "markdown",
   "id": "53b50d16-f1a3-4ab3-96fe-9a5ca9e323ad",
   "metadata": {},
   "source": [
    "## Create a JupyterRenderer object to view the created shapes in this exercise"
   ]
  },
  {
   "cell_type": "code",
   "execution_count": 6,
   "id": "b53bcf41-6f37-4f23-99e7-9a9209eb5130",
   "metadata": {},
   "outputs": [],
   "source": [
    "'''\n",
    "open display\n",
    "'''\n",
    "display_box = JupyterRenderer()\n",
    "display_wing = JupyterRenderer()\n",
    "\n",
    "#help(display)"
   ]
  },
  {
   "cell_type": "code",
   "execution_count": 7,
   "id": "ec7c8ce5-773d-40c0-b66d-d7002dca2fae",
   "metadata": {},
   "outputs": [
    {
     "data": {
      "application/vnd.jupyter.widget-view+json": {
       "model_id": "ed6cc0434120446baca83e7185c66b4c",
       "version_major": 2,
       "version_minor": 0
      },
      "text/plain": [
       "HBox(children=(VBox(children=(HBox(children=(Checkbox(value=True, description='Axes', layout=Layout(height='au…"
      ]
     },
     "metadata": {},
     "output_type": "display_data"
    }
   ],
   "source": [
    "# display the plain wing\n",
    "display_wing.DisplayShape(\n",
    "    wing.shape(),\n",
    "    render_edges=True,\n",
    "    edge_color=\"white\",\n",
    "    edge_deflection=0.1,\n",
    "    transparency=True,\n",
    "    opacity = 0.5,\n",
    "    topo_level=\"Face\",\n",
    "    shape_color=\"green\",\n",
    "    update=True,\n",
    "    selectable=True)"
   ]
  },
  {
   "cell_type": "code",
   "execution_count": 8,
   "id": "4978c4fa-0bd5-4fb5-a392-cbef1b0ed2c1",
   "metadata": {},
   "outputs": [
    {
     "data": {
      "application/vnd.jupyter.widget-view+json": {
       "model_id": "e15acfac394748a8ae7b1315e952989e",
       "version_major": 2,
       "version_minor": 0
      },
      "text/plain": [
       "HBox(children=(VBox(children=(HBox(children=(Checkbox(value=True, description='Axes', layout=Layout(height='au…"
      ]
     },
     "metadata": {},
     "output_type": "display_data"
    }
   ],
   "source": [
    "# display the plain box\n",
    "display_box.DisplayShape(\n",
    "    box,\n",
    "    render_edges=True,\n",
    "    edge_color=\"white\",\n",
    "    edge_deflection=0.1,\n",
    "    transparency=True,\n",
    "    opacity = 0.5,\n",
    "    topo_level=\"Face\",\n",
    "    shape_color=\"pink\",\n",
    "    update=True,\n",
    "    selectable=True)"
   ]
  },
  {
   "cell_type": "markdown",
   "id": "edb39f06-2e00-4c31-ae75-d76c198a51f2",
   "metadata": {},
   "source": [
    "## Use TiGL to translate the box"
   ]
  },
  {
   "cell_type": "code",
   "execution_count": 9,
   "id": "04fda299-20a5-4dcc-b3a0-285d527d025b",
   "metadata": {},
   "outputs": [],
   "source": [
    "#uncomment to show TiGL Options\n",
    "#help(CTiglTransformation)"
   ]
  },
  {
   "cell_type": "code",
   "execution_count": 10,
   "id": "9bbf17a0-f15e-4d16-b28a-3cac77767733",
   "metadata": {},
   "outputs": [],
   "source": [
    "'''\n",
    "move Box\n",
    "'''\n",
    "#uncomment to show TiGL Options\n",
    "#help(CTiglTransformation)\n",
    "\n",
    "#create transformation\n",
    "trafo = CTiglTransformation()\n",
    "trafo.add_translation(0.8, 0.6, -0.15)\n",
    "\n",
    "#apply translation to the box, creating a new translated object\n",
    "#help(trafo)\n",
    "moved_box = trafo.transform(box)"
   ]
  },
  {
   "cell_type": "code",
   "execution_count": 11,
   "id": "8ae5f4f3-a24d-487b-8332-b5d7363968ed",
   "metadata": {},
   "outputs": [
    {
     "data": {
      "application/vnd.jupyter.widget-view+json": {
       "model_id": "624f94358ec0454b8a5e8fbbc30a2c11",
       "version_major": 2,
       "version_minor": 0
      },
      "text/plain": [
       "HBox(children=(VBox(children=(HBox(children=(Checkbox(value=True, description='Axes', layout=Layout(height='au…"
      ]
     },
     "metadata": {},
     "output_type": "display_data"
    }
   ],
   "source": [
    "#display moved box\n",
    "\n",
    "display_moved_box = JupyterRenderer()\n",
    "\n",
    "display_moved_box.DisplayShape(\n",
    "    moved_box,\n",
    "    render_edges=True,\n",
    "    edge_color=\"white\",\n",
    "    edge_deflection=0.1,\n",
    "    transparency=True,\n",
    "    opacity = 0.5,\n",
    "    topo_level=\"Face\",\n",
    "    shape_color=\"yellow\",\n",
    "    update=True,\n",
    "    selectable=True)"
   ]
  },
  {
   "cell_type": "markdown",
   "id": "494ab71d-b783-4e90-8d77-4196e32c3dcb",
   "metadata": {},
   "source": [
    "## Use TiGL to make the box a cutout shape "
   ]
  },
  {
   "cell_type": "code",
   "execution_count": 12,
   "id": "baefb48b-e406-42d3-bc33-14ca4b6b17e4",
   "metadata": {},
   "outputs": [],
   "source": [
    "'''\n",
    "make box a cutout shape\n",
    "'''\n",
    "# Create CNamedShape\n",
    "named_box = CNamedShape(moved_box, \"CutOut\")\n",
    "\n",
    "'''\n",
    "apply cutout shape to the wing by creating a cut shape\n",
    "'''\n",
    "#cut box from wing\n",
    "cutter = CCutShape(wing, named_box)\n",
    "cut_wing_shape = cutter.named_shape()"
   ]
  },
  {
   "cell_type": "markdown",
   "id": "b24d620a-19e0-4990-bc7d-967110499a67",
   "metadata": {},
   "source": [
    "## Display the cutout shape"
   ]
  },
  {
   "cell_type": "code",
   "execution_count": 13,
   "id": "d80f660d-b4d6-48ea-b32b-d652f05ba252",
   "metadata": {},
   "outputs": [
    {
     "data": {
      "application/vnd.jupyter.widget-view+json": {
       "model_id": "0b2a90d1ef674bba8150e8ff3d1e6021",
       "version_major": 2,
       "version_minor": 0
      },
      "text/plain": [
       "HBox(children=(VBox(children=(HBox(children=(Checkbox(value=True, description='Axes', layout=Layout(height='au…"
      ]
     },
     "metadata": {},
     "output_type": "display_data"
    }
   ],
   "source": [
    "'''\n",
    "Now check by looking at our file via OCC Display, if the booloean operation worked:\n",
    "'''\n",
    "\n",
    "display_cutout = JupyterRenderer()\n",
    "\n",
    "# Color the new created faces and egdes differently\n",
    "for i in range(0, cut_wing_shape.get_face_count()):\n",
    "    ft = cut_wing_shape.get_face_traits(i)\n",
    "    if ft.origin().name() == \"CutOut\":\n",
    "        color = \"cyan\"\n",
    "    if ft.origin().name() == \"Wing\":\n",
    "        color = \"green\"\n",
    "    display_cutout.DisplayShape(get_face(cut_wing_shape.shape(), i), shape_color=color, render_edges=False, edge_color=\"blue\", edge_deflection=0.05, vertex_color=None, quality=2.0, transparency=True, opacity=0.5, topo_level='default', update=False, selectable=True)\n",
    "\n",
    "display_cutout.Display()"
   ]
  }
 ],
 "metadata": {
  "kernelspec": {
   "display_name": "Python 3 (ipykernel)",
   "language": "python",
   "name": "python3"
  },
  "language_info": {
   "codemirror_mode": {
    "name": "ipython",
    "version": 3
   },
   "file_extension": ".py",
   "mimetype": "text/x-python",
   "name": "python",
   "nbconvert_exporter": "python",
   "pygments_lexer": "ipython3",
   "version": "3.12.11"
  }
 },
 "nbformat": 4,
 "nbformat_minor": 5
}
