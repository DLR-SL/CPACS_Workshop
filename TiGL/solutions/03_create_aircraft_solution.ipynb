{
 "cells": [
  {
   "cell_type": "markdown",
   "id": "c76a0011-a046-4e6c-9c61-46c73d5499a2",
   "metadata": {},
   "source": [
    "# Create an aircraft from scratch\n",
    "\n",
    "In this tutorial we will\n",
    " - Open a simple baseline CPACS file with TiXI and TiGL\n",
    " - Add sections to the fuselage to model a nose and tail\n",
    " - Add a horizontal tailplane (HTP) to the configuration\n",
    " - Export the configuration to a new CPACS file."
   ]
  },
  {
   "cell_type": "markdown",
   "id": "734c4137-b47d-4ab2-bff2-7b52b89b6c8c",
   "metadata": {},
   "source": [
    "## Open a baseline CPACS file with TiXI and TiGL\n",
    "\n",
    "We start by importing the required modules. We will use `tixi3wrapper` and `tigl3wrapper` to open the CPACS file and we will use `CCPACSConfigurationManager_get_instance` to obtain an instance of TiGL's configuration manager. This class is used to access the internal Python API."
   ]
  },
  {
   "cell_type": "code",
   "execution_count": 1,
   "id": "538752e5-5328-458a-a73f-068896932f37",
   "metadata": {},
   "outputs": [],
   "source": [
    "from tixi3 import tixi3wrapper\n",
    "from tigl3 import tigl3wrapper\n",
    "from tigl3.configuration import CCPACSConfigurationManager_get_instance\n",
    "from tigl3.geometry import CTiglPoint, TIGL_X_Z_PLANE \n",
    "import os\n",
    "import sys"
   ]
  },
  {
   "cell_type": "markdown",
   "id": "330c8591-12cb-4059-ab70-5e5d23cf0ec4",
   "metadata": {},
   "source": [
    "Let's open the base line configuration!"
   ]
  },
  {
   "cell_type": "code",
   "execution_count": 2,
   "id": "314a5db6-e43d-41ce-918c-ba9f454cf95b",
   "metadata": {},
   "outputs": [],
   "source": [
    "baseline = os.path.join(\"..\", \"data\", \"simpletest.cpacs.xml\")\n",
    "\n",
    "# create handles\n",
    "tixi_h = tixi3wrapper.Tixi3()\n",
    "tigl_h = tigl3wrapper.Tigl3()\n",
    "\n",
    "#initialize handles and open the CPACS file\n",
    "tixi_h.open(baseline)\n",
    "tigl_h.open(tixi_h, \"\") "
   ]
  },
  {
   "cell_type": "markdown",
   "id": "214c689b-9cdf-4bd4-936d-6624c0a0ac7a",
   "metadata": {},
   "source": [
    "Let's get an instance of the configuration manager and access the CPACS configuration"
   ]
  },
  {
   "cell_type": "code",
   "execution_count": 3,
   "id": "69f03928-78b3-4455-9fe1-106153b959d3",
   "metadata": {},
   "outputs": [],
   "source": [
    " # To access the internal python api, you need to use the configuration manager\n",
    "mgr =  CCPACSConfigurationManager_get_instance()\n",
    "aircraft = mgr.get_configuration(tigl_h._handle.value)"
   ]
  },
  {
   "cell_type": "markdown",
   "id": "0e6aa255-d068-4e00-bf84-9f13106a179e",
   "metadata": {},
   "source": [
    "To visualize the baseline aircraft, we will use a pre-written display function from `helper.py`. \n",
    "\n",
    "Feel free to have a peek, but the implementation is irrelevant for this turorial"
   ]
  },
  {
   "cell_type": "code",
   "execution_count": 4,
   "id": "952de307-fdb6-4f70-a255-ee030c0876e9",
   "metadata": {},
   "outputs": [
    {
     "data": {
      "application/vnd.jupyter.widget-view+json": {
       "model_id": "fc2d617687b4406096aad8f97c4b225f",
       "version_major": 2,
       "version_minor": 0
      },
      "text/plain": [
       "HBox(children=(VBox(children=(HBox(children=(Checkbox(value=True, description='Axes', layout=Layout(height='au…"
      ]
     },
     "metadata": {},
     "output_type": "display_data"
    }
   ],
   "source": [
    "# lets add the parent directory to the path and import the display function from the helper module\n",
    "sys.path.insert(1, \"..\")\n",
    "from helper import display\n",
    "\n",
    "# Show it to me!\n",
    "display(aircraft)"
   ]
  },
  {
   "cell_type": "markdown",
   "id": "a5f0cd56-19f0-49fd-a53a-280dd8ce21a1",
   "metadata": {},
   "source": [
    "### Add sections to the fuselage to model a nose and tail\n",
    "\n",
    "Our next task will be to modify the shape of the fuselage. \n",
    "\n",
    "Let's begin by adding a nose section (element) before the first using the function `fuselage.create_new_connected_element_before(element_uid, new_uid)`.\n",
    "\n",
    "*Hint:* The first element of the fuselage has the UID \"D150_Fuselage_1Section1IDElement1\"."
   ]
  },
  {
   "cell_type": "code",
   "execution_count": 5,
   "id": "2b5fbd81-394b-417d-9bce-9718bf59d5b8",
   "metadata": {},
   "outputs": [],
   "source": [
    "fuselage = aircraft.get_fuselage(1)\n",
    "\n",
    "# add nose\n",
    "fuselage.create_new_connected_element_before(\"D150_Fuselage_1Section1IDElement1\", \"nose\")"
   ]
  },
  {
   "cell_type": "markdown",
   "id": "3becfe0a-b19c-42c5-a307-1bccbe4bb7ba",
   "metadata": {},
   "source": [
    "Now we will scale the first section to a point by setting the area to zero."
   ]
  },
  {
   "cell_type": "code",
   "execution_count": 6,
   "id": "178d5b5c-18d2-4027-9861-b97bc82b863d",
   "metadata": {},
   "outputs": [],
   "source": [
    "s = fuselage.get_section(1)\n",
    "e = s.get_section_element(1)\n",
    "ce = e.get_ctigl_section_element()\n",
    "\n",
    "# set the area of the section element to zero\n",
    "ce.set_area(0)"
   ]
  },
  {
   "cell_type": "markdown",
   "id": "c50e2b3b-e7db-4e00-88cb-c03ff82d3585",
   "metadata": {},
   "source": [
    "Now we will modify the tail of the fuselage. We create a new section after the last one, analogously to the previous task.\n",
    "\n",
    "*Hint:* The last element of the fuselage has the UID \"D150_Fuselage_1Section3IDElement1\"."
   ]
  },
  {
   "cell_type": "code",
   "execution_count": 7,
   "id": "a5016492-66db-499f-89cf-36dc55266a65",
   "metadata": {},
   "outputs": [],
   "source": [
    "# add tail\n",
    "fuselage.create_new_connected_element_after(\"D150_Fuselage_1Section3IDElement1\", \"tail\")"
   ]
  },
  {
   "cell_type": "markdown",
   "id": "17f11896-ff6d-4811-a168-3f175e6c53f1",
   "metadata": {},
   "source": [
    "We will translate the section and scale it.\n",
    "\n",
    "*Hint:* You need to use the class `CTiglPoint` here."
   ]
  },
  {
   "cell_type": "code",
   "execution_count": 8,
   "id": "4a91f6ef-8a00-4757-aa7b-33003774f850",
   "metadata": {},
   "outputs": [],
   "source": [
    "s = fuselage.get_section(fuselage.get_section_count()) # This should have the index 5\n",
    "e = s.get_section_element(1)\n",
    "ce = e.get_ctigl_section_element()\n",
    "\n",
    "# set the center of the section element to (x,y,z) = (3.55, 0., 0.3)\n",
    "ce.set_center(CTiglPoint(3.55, 0., 0.3))\n",
    "\n",
    "# set the area of the section element to 0.05\n",
    "ce.set_area(0.05)"
   ]
  },
  {
   "cell_type": "markdown",
   "id": "56b39bce-5c2a-473c-9868-e166b45b91cc",
   "metadata": {},
   "source": [
    "It's time to have a look at what we have so far!"
   ]
  },
  {
   "cell_type": "code",
   "execution_count": 9,
   "id": "549229ab-36da-4501-b47d-ebc2b860f5d2",
   "metadata": {},
   "outputs": [
    {
     "data": {
      "application/vnd.jupyter.widget-view+json": {
       "model_id": "48404add5c564550b861ec97421ed9ed",
       "version_major": 2,
       "version_minor": 0
      },
      "text/plain": [
       "HBox(children=(VBox(children=(HBox(children=(Checkbox(value=True, description='Axes', layout=Layout(height='au…"
      ]
     },
     "metadata": {},
     "output_type": "display_data"
    }
   ],
   "source": [
    "display(aircraft)"
   ]
  },
  {
   "cell_type": "markdown",
   "id": "a68f842e-ea7f-4b60-8474-baf17bea3ce6",
   "metadata": {},
   "source": [
    "### Add a HTP to the configuration\n",
    "\n",
    "Now we will add a new wing. We use the `CCPACSWing::create_wing` method. \n",
    "\n",
    "We need to provide a UID for the new wing, the number of sections as well as the UID of the airfoil we want to use for each section. \n",
    "\n",
    "We use\n",
    " - `wingUID=\"htp\"`\n",
    " - `numberOfSections=3`\n",
    " - `airfoilUID=\"NACA0012\"`"
   ]
  },
  {
   "cell_type": "code",
   "execution_count": 10,
   "id": "1c322865-b10f-4232-aa22-8b01cd6e1bdc",
   "metadata": {},
   "outputs": [],
   "source": [
    "# create the htp\n",
    "wings = aircraft.get_wings()\n",
    "htp = wings.create_wing(wingUID=\"htp\", numberOfSection=3, airfoilUID=\"NACA0012\")"
   ]
  },
  {
   "cell_type": "markdown",
   "id": "1a384e6e-ada5-4cb0-897a-9a8e3aac7839",
   "metadata": {},
   "source": [
    "Now we need to sculpt the horizontal tailplane to our needs.\n",
    "\n",
    "*Hint:* Use the python help function `help(htp)` to get an overview of available methods.\n",
    "\n",
    "Your task is to \n",
    " - set the area of the HTP to 0.5 while maintaining the aspect ratio\n",
    " - set the root Leading Edge (LE) position to (x,y,z) = (3.0, 0., 0.3)\n",
    " - set the symmetry to `TIGL_X_Z_PLANE`"
   ]
  },
  {
   "cell_type": "code",
   "execution_count": 11,
   "id": "5465eb01-07d2-447d-8777-03510d25fa63",
   "metadata": {},
   "outputs": [],
   "source": [
    "# modify htp parameters\n",
    "htp.set_area_keep_ar(0.5)\n",
    "htp.set_root_leposition(CTiglPoint(3.0, 0., 0.3))\n",
    "htp.set_symmetry(TIGL_X_Z_PLANE)"
   ]
  },
  {
   "cell_type": "markdown",
   "id": "1b846739-7618-44ad-8605-4ee179445d8c",
   "metadata": {},
   "source": [
    "After having set some global parameters on the HTP, let's fine tune the area and translation of the outer section."
   ]
  },
  {
   "cell_type": "code",
   "execution_count": 12,
   "id": "193e09ad-408f-4ae7-be91-c8a47ebb46b8",
   "metadata": {},
   "outputs": [],
   "source": [
    "s = htp.get_section(3)\n",
    "e = s.get_section_element(1)\n",
    "ce = e.get_ctigl_section_element()\n",
    "\n",
    "# set the center of the section element ce to (x,y,z) = (3.4, 1., 0.3)\n",
    "ce.set_center(CTiglPoint(3.4, 1., 0.3))\n",
    "\n",
    "# set the area of the section element ce to 0.01\n",
    "ce.set_area(0.01)"
   ]
  },
  {
   "cell_type": "markdown",
   "id": "f23131f5-e3c6-42bf-b6d6-c5a3261f7403",
   "metadata": {},
   "source": [
    "What do we have so far?"
   ]
  },
  {
   "cell_type": "code",
   "execution_count": 13,
   "id": "0ab6a810-6563-43e9-bac7-41956e6befd2",
   "metadata": {},
   "outputs": [
    {
     "data": {
      "application/vnd.jupyter.widget-view+json": {
       "model_id": "9d722857ed714a2089fcd9ee43285207",
       "version_major": 2,
       "version_minor": 0
      },
      "text/plain": [
       "HBox(children=(VBox(children=(HBox(children=(Checkbox(value=True, description='Axes', layout=Layout(height='au…"
      ]
     },
     "metadata": {},
     "output_type": "display_data"
    }
   ],
   "source": [
    "display(aircraft)"
   ]
  },
  {
   "cell_type": "markdown",
   "id": "030433e8-7027-4108-bfb6-26ba73db30c6",
   "metadata": {},
   "source": [
    "### Export the configuration to a new CPACS file.\n",
    "\n",
    "We are done! We still need to save our results. \n",
    "\n",
    "First, we need to write our modifications to CPACS. This updates the underlying TiXI handle. Then we can save the document."
   ]
  },
  {
   "cell_type": "code",
   "execution_count": 14,
   "id": "e876831a-625f-4c48-bca0-ce68f6465f18",
   "metadata": {},
   "outputs": [],
   "source": [
    "aircraft.write_cpacs(aircraft.get_uid())\n",
    "outfile = \"my_awesome_aircraft.xml\"\n",
    "tixi_h.save(outfile)"
   ]
  },
  {
   "cell_type": "markdown",
   "id": "6f1809c0-4ce2-42af-b4ce-a3278962e13b",
   "metadata": {},
   "source": [
    "Have a look at the CPACS file. Would you have wanted to write this by hand?"
   ]
  }
 ],
 "metadata": {
  "kernelspec": {
   "display_name": "Python 3 (ipykernel)",
   "language": "python",
   "name": "python3"
  },
  "language_info": {
   "codemirror_mode": {
    "name": "ipython",
    "version": 3
   },
   "file_extension": ".py",
   "mimetype": "text/x-python",
   "name": "python",
   "nbconvert_exporter": "python",
   "pygments_lexer": "ipython3",
   "version": "3.12.11"
  }
 },
 "nbformat": 4,
 "nbformat_minor": 5
}
